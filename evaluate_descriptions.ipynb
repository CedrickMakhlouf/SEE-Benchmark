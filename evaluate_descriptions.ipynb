{
 "cells": [
  {
   "cell_type": "markdown",
   "id": "65b383a6",
   "metadata": {},
   "source": [
    "# 🧪 SEE Evaluator\n",
    "This notebook evaluates VLM-generated screen descriptions using GPT-4o and DeepEval. It measures both Reference Coverage and Must-Include Coverage against the SEE-Benchmark annotations."
   ]
  },
  {
   "cell_type": "markdown",
   "id": "c93c9ce4",
   "metadata": {},
   "source": [
    "# 🛠️ Configuration"
   ]
  },
  {
   "cell_type": "code",
   "execution_count": 14,
   "id": "6c025460",
   "metadata": {},
   "outputs": [],
   "source": [
    "EVAL_INPUT_XLSX = \"descriptions/example_descriptions.xlsx\""
   ]
  },
  {
   "cell_type": "markdown",
   "id": "85412fce",
   "metadata": {},
   "source": [
    "# 📦 Step 1: Setup and Imports"
   ]
  },
  {
   "cell_type": "code",
   "execution_count": 15,
   "id": "087562d8",
   "metadata": {},
   "outputs": [
    {
     "data": {
      "text/plain": [
       "True"
      ]
     },
     "execution_count": 15,
     "metadata": {},
     "output_type": "execute_result"
    }
   ],
   "source": [
    "import os\n",
    "import base64\n",
    "import json\n",
    "import pandas as pd\n",
    "from pathlib import Path\n",
    "from datetime import datetime\n",
    "from dotenv import load_dotenv\n",
    "from together import Together\n",
    "import matplotlib.pyplot as plt\n",
    "import seaborn as sns\n",
    "from scipy.stats import pearsonr, spearmanr\n",
    "\n",
    "load_dotenv()"
   ]
  },
  {
   "cell_type": "markdown",
   "id": "d9354394",
   "metadata": {},
   "source": [
    "# 📂 Step 2: Load Annotations"
   ]
  },
  {
   "cell_type": "code",
   "execution_count": 16,
   "id": "3a4f6fa7",
   "metadata": {},
   "outputs": [],
   "source": [
    "with open(\"annotation_dataset/annotations.json\", \"r\", encoding=\"utf-8\") as f:\n",
    "    annotations = json.load(f)"
   ]
  },
  {
   "cell_type": "markdown",
   "id": "085a61fb",
   "metadata": {},
   "source": [
    "# 📏 Step 3: Define SEE Evaluation Metrics using GEval (DeepEval)"
   ]
  },
  {
   "cell_type": "code",
   "execution_count": 17,
   "id": "f228c642",
   "metadata": {
    "vscode": {
     "languageId": "ruby"
    }
   },
   "outputs": [],
   "source": [
    "# Part 1: Complete metrics definition\n",
    "from deepeval.metrics import GEval\n",
    "from deepeval.test_case import LLMTestCaseParams\n",
    "from deepeval.evaluate import AsyncConfig\n",
    "\n",
    "# Your existing reference coverage metric\n",
    "reference_coverage_eval = GEval(\n",
    "    name=\"Referentie-dekking (SEE-Benchmark)\",\n",
    "    criteria=(\n",
    "        \"Beoordeel hoe goed de modeloutput overeenkomt met de essentie van de referentiebeschrijving. \"\n",
    "        \"Vergelijk het met het nakijken van een open vraag: parafraseren en andere woordvolgorde mogen, zolang de kern van het antwoord gelijk blijft. \"\n",
    "        \"Hoe meer belangrijke en relevante elementen correct aanwezig zijn, hoe hoger de score. \"\n",
    "        \"De beschrijving moet functioneel bruikbaar zijn voor een blinde gebruiker en volledig in het Nederlands zijn.\"\n",
    "    ),\n",
    "    evaluation_params=[\n",
    "        LLMTestCaseParams.ACTUAL_OUTPUT,\n",
    "        LLMTestCaseParams.EXPECTED_OUTPUT\n",
    "    ],\n",
    "    evaluation_steps=[\n",
    "        \"De beschrijving moet volledig in het Nederlands zijn. Engelse termen zijn alleen toegestaan als ze letterlijk ook in de referentie staan. Als er Engelse termen voorkomen die niet in de referentie staan, geef een lage score (onder 0.3).\",\n",
    "        \"Controleer of alle belangrijke en functioneel relevante elementen uit de referentie aanwezig zijn in de modeloutput, ook als ze net anders genoemd worden, zolang de essentie van het functioneel relevante element maar overkomt. Als er iets ontbreekt, trek dan punten af.\",\n",
    "        \"Parafrasering is toegestaan, zolang betekenis en inhoud behouden blijven. Als de betekenis verandert of vager wordt, trek dan punten af.\",\n",
    "        \"Als er elementen genoemd worden die niet in de referentie staan (zoals extra knoppen of functionaliteiten), trek dan punten af.\",\n",
    "        \"Als de modeloutput visuele of stilistische details bevat die niet in de referentie staan én geen functioneel doel dienen, trek dan punten af.\",\n",
    "        \"Als de modeloutput veel langer is dan nodig of onnodige omschrijvingen bevat, trek dan punten af.\"\n",
    "    ],\n",
    "    model=\"gpt-4o\",\n",
    "    threshold=0.7\n",
    ")\n",
    "\n",
    "# New metric for must-include elements\n",
    "must_include_coverage_eval = GEval(\n",
    "    name=\"Verplichte Elementen Dekking\",\n",
    "    criteria=\"Alle verplichte elementen uit de lijst moeten herkenbaar en in het Nederlands aanwezig zijn in de modeloutput, ook als synoniem of parafrase. Het belangrijkste is dat de essentie van het element behouden blijft.\",\n",
    "    evaluation_params=[\n",
    "        LLMTestCaseParams.ACTUAL_OUTPUT,\n",
    "        LLMTestCaseParams.INPUT\n",
    "    ],\n",
    "    evaluation_steps=[\n",
    "        \"Controleer voor elk verplicht element of het in de output staat, ook synoniemen of parafraseringen tellen even zwaar mee.\"\n",
    "        \"Als alles aanwezig is telt dit sterk mee.\"\n",
    "    ],\n",
    "    model=\"gpt-4o\",\n",
    "    threshold=0.8\n",
    ")"
   ]
  },
  {
   "cell_type": "markdown",
   "id": "d8ee6f1f",
   "metadata": {},
   "source": [
    "# 🧮 Step 4: Generate GEval evaluations from model outputs and annotations"
   ]
  },
  {
   "cell_type": "code",
   "execution_count": 18,
   "id": "6ebc1b09",
   "metadata": {
    "vscode": {
     "languageId": "ruby"
    }
   },
   "outputs": [
    {
     "name": "stdout",
     "output_type": "stream",
     "text": [
      "Created 5 reference coverage test cases\n",
      "Created 5 must-include coverage test cases\n",
      "Running reference coverage evaluation...\n"
     ]
    },
    {
     "data": {
      "text/html": [
       "<pre style=\"white-space:pre;overflow-x:auto;line-height:normal;font-family:Menlo,'DejaVu Sans Mono',consolas,'Courier New',monospace\">✨ You're running DeepEval's latest <span style=\"color: #6a00ff; text-decoration-color: #6a00ff\">Referentie-dekking </span><span style=\"color: #6a00ff; text-decoration-color: #6a00ff; font-weight: bold\">(</span><span style=\"color: #6a00ff; text-decoration-color: #6a00ff\">SEE-Benchmark</span><span style=\"color: #6a00ff; text-decoration-color: #6a00ff; font-weight: bold\">)</span><span style=\"color: #6a00ff; text-decoration-color: #6a00ff\"> </span><span style=\"color: #6a00ff; text-decoration-color: #6a00ff; font-weight: bold\">(</span><span style=\"color: #6a00ff; text-decoration-color: #6a00ff\">GEval</span><span style=\"color: #6a00ff; text-decoration-color: #6a00ff; font-weight: bold\">)</span><span style=\"color: #6a00ff; text-decoration-color: #6a00ff\"> Metric</span>! <span style=\"color: #374151; text-decoration-color: #374151; font-weight: bold\">(</span><span style=\"color: #374151; text-decoration-color: #374151\">using gpt-4o, </span><span style=\"color: #374151; text-decoration-color: #374151\">strict</span><span style=\"color: #374151; text-decoration-color: #374151\">=</span><span style=\"color: #374151; text-decoration-color: #374151; font-style: italic\">False</span><span style=\"color: #374151; text-decoration-color: #374151\">,</span>\n",
       "<span style=\"color: #374151; text-decoration-color: #374151\">async_mode</span><span style=\"color: #374151; text-decoration-color: #374151\">=</span><span style=\"color: #374151; text-decoration-color: #374151; font-style: italic\">True</span><span style=\"color: #374151; text-decoration-color: #374151; font-weight: bold\">)</span><span style=\"color: #374151; text-decoration-color: #374151\">...</span>\n",
       "</pre>\n"
      ],
      "text/plain": [
       "✨ You're running DeepEval's latest \u001b[38;2;106;0;255mReferentie-dekking \u001b[0m\u001b[1;38;2;106;0;255m(\u001b[0m\u001b[38;2;106;0;255mSEE-Benchmark\u001b[0m\u001b[1;38;2;106;0;255m)\u001b[0m\u001b[38;2;106;0;255m \u001b[0m\u001b[1;38;2;106;0;255m(\u001b[0m\u001b[38;2;106;0;255mGEval\u001b[0m\u001b[1;38;2;106;0;255m)\u001b[0m\u001b[38;2;106;0;255m Metric\u001b[0m! \u001b[1;38;2;55;65;81m(\u001b[0m\u001b[38;2;55;65;81musing gpt-4o, \u001b[0m\u001b[38;2;55;65;81mstrict\u001b[0m\u001b[38;2;55;65;81m=\u001b[0m\u001b[3;38;2;55;65;81mFalse\u001b[0m\u001b[38;2;55;65;81m,\u001b[0m\n",
       "\u001b[38;2;55;65;81masync_mode\u001b[0m\u001b[38;2;55;65;81m=\u001b[0m\u001b[3;38;2;55;65;81mTrue\u001b[0m\u001b[1;38;2;55;65;81m)\u001b[0m\u001b[38;2;55;65;81m...\u001b[0m\n"
      ]
     },
     "metadata": {},
     "output_type": "display_data"
    },
    {
     "name": "stderr",
     "output_type": "stream",
     "text": [
      "Evaluating 5 test case(s) in parallel: |██████    | 60% (3/5) [Time Taken: 00:03,  1.25test case/s]"
     ]
    },
    {
     "name": "stdout",
     "output_type": "stream",
     "text": [
      "False !!!!!!!!!!!!\n",
      "False !!!!!!!!!!!!\n",
      "False !!!!!!!!!!!!\n"
     ]
    },
    {
     "name": "stderr",
     "output_type": "stream",
     "text": [
      "Evaluating 5 test case(s) in parallel: |████████  | 80% (4/5) [Time Taken: 00:03,  1.65test case/s]"
     ]
    },
    {
     "name": "stdout",
     "output_type": "stream",
     "text": [
      "False !!!!!!!!!!!!\n"
     ]
    },
    {
     "name": "stderr",
     "output_type": "stream",
     "text": [
      "Evaluating 5 test case(s) in parallel: |██████████|100% (5/5) [Time Taken: 00:03,  1.26test case/s]"
     ]
    },
    {
     "name": "stdout",
     "output_type": "stream",
     "text": [
      "False !!!!!!!!!!!!\n",
      "\n",
      "======================================================================\n",
      "\n",
      "Metrics Summary\n",
      "\n",
      "  - ❌ Referentie-dekking (SEE-Benchmark) (GEval) (score: 0.02, threshold: 0.7, strict: False, evaluation model: gpt-4o, reason: The description is mostly in Dutch but includes English terms not in the reference, like 'Assignment 1: Portfolio'. Important elements like authors and specific word markings are missing. The output mentions a status bar, which is not in the reference., error: None)\n",
      "\n",
      "For test case:\n",
      "\n",
      "  - input: \n",
      "  - actual output: De schermafbeelding toont een Microsoft Word-document op een computer.\n",
      "\n",
      "Het document is getiteld \"Assignment 1: Portfolio\" en bevat een inleiding over een patiënt met Colitis Ulcerosa. De tekst is geschreven in het Engels en bevat markeringen en annotaties.\n",
      "\n",
      "De belangrijkste elementen in het scherm zijn:\n",
      "* De menubalk bovenaan met opties zoals \"Bestand\", \"Start\", \"Invoegen\", enz.\n",
      "* De werkbalk onder de menubalk met knoppen voor tekstbewerking, zoals \"Calibri\", \"Lettertype\", \"Tekst uitlijnen\", enz.\n",
      "* Het document zelf, dat de titel \"Assignment 1: Portfolio\" draagt en een inleiding bevat over een patiënt met Colitis Ulcerosa.\n",
      "* De statusbalk onderaan het scherm met informatie over de pagina, het aantal woorden en de taal.\n",
      "\n",
      "Het hoofddoel van het scherm is het bewerken van het Word-document. De belangrijkste interactie-elementen zijn de knoppen en menu's voor tekstbewerking, evenals het document zelf dat kan worden gelezen en bewerkt.\n",
      "  - expected output: Een wordbestand met de titel \"Assignment 1: Portfolio\" is te zien. De auteurs zijn Cédrick Makhlouf en Tom de Haas. Het betreft een verslag over een patient met Colitis Ulcerosa en haar ervaringen hierin. Verschillende woorden zijn gekleurd gemarkeerd in het groen, geel en paars. De gele woorden betreffen: \"Inflammatory\", \"often\", \"course\" en \"Finally\". De groene woorden betreffen: \"gastrointestinal\", \"These\", \"problems\", en \"diagnosed\". De paarse woorden betreffen: \"ulcerosa\", \"spreading\", \"themselves\", \"period\" en \"finding\". Verder is de standaard Word-layout te zien.\n",
      "  - context: None\n",
      "  - retrieval context: None\n",
      "\n",
      "======================================================================\n",
      "\n",
      "Metrics Summary\n",
      "\n",
      "  - ✅ Referentie-dekking (SEE-Benchmark) (GEval) (score: 0.7885645438012294, threshold: 0.7, strict: False, evaluation model: gpt-4o, reason: The description is in Dutch and includes all key elements like navigation and thematic sections. However, it misses some specific details such as the exact text 'U kunt aangifte doen tot 1 mei' and the date '15 april' for the 'Uitbetalen voorlopige aanslag' section. The structure and meaning are well-preserved, but minor details are omitted., error: None)\n",
      "\n",
      "For test case:\n",
      "\n",
      "  - input: \n",
      "  - actual output: Dit is een schermafbeelding van de website van de Belastingdienst Nederland, weergegeven in een webbrowser. \n",
      "\n",
      "De pagina dient als startpunt voor burgers om informatie en diensten van de Belastingdienst te raadplegen en te gebruiken. \n",
      "\n",
      "De belangrijkste elementen op deze pagina zijn:\n",
      "\n",
      "1. **Navigatie-elementen**: \n",
      "   - Een menu-knop met het label \"Menu\".\n",
      "   - Een zoekveld met de placeholdertekst \"Waar bent u naar op zoek?\" om specifieke informatie te zoeken.\n",
      "   - Een knop met het label \"Inloggen\" om toegang te krijgen tot persoonlijke belastinginformatie.\n",
      "\n",
      "2. **Prominente secties**:\n",
      "   - Een banner met de titel \"Belastingdienst\" en de vraag \"Waarmee kunnen wij u helpen?\" met daaronder drie blokken die verschillende onderwerpen behandelen:\n",
      "     - \"Aangifte inkomstenbelasting doen\" met informatie over de deadline.\n",
      "     - \"Aangifte 2024 gedaan - wanneer hoor ik iets?\" met een link om meer te lezen.\n",
      "     - \"Arbeidsrelaties: zzp - ja of nee?\" met een link naar meer informatie.\n",
      "     - \"Uitbetalen voorlopige aanslag\" met een mededeling over een specifieke betaaldatum.\n",
      "\n",
      "3. **Thema's en links**:\n",
      "   - Een sectie getiteld \"Belangrijke thema's\" met pictogrammen en links naar verschillende belastingonderwerpen, zoals \"Aangifte doen\", \"Toeslagen\", \"Betalen en ontvangsten\", \"Voorlopige aanslag\", \"Erfbelasting\", \"Schenkbelasting\", \"Herstel kinderopvangtoeslag\", \"Btw\", \"Eigen woning\", \"Douane\", en \"Startende ondernemers\".\n",
      "\n",
      "Deze elementen stellen gebruikers in staat om snel toegang te krijgen tot relevante informatie en diensten van de Belastingdienst.\n",
      "  - expected output: De website van de Belastingdienst is te zien. Bovenaan is een navigatiebalk met daarin Home, Menu, een zoekbalk en Inloggen. In het midden van het scherm staan vier informatieblokken met de tekst:- \"Aangifte inkomstenbelasting doen\" met de tekst \"U kunt aangifte doen tot 1 mei.\" en een knop om in te loggen op \"Mijn Belastingdienst\".- \"Aangifte 2024 gedaan - wanneer hoor ik iets?\" met een link om te zien wanneer je bericht krijgt.- \"Arbeidsrelaties: zzp - ja of nee?\" met een link voor meer informatie over opdrachten in loondienst.- \"Uitbetalen voorlopige aanslag\" met de datum 15 april en de tekst dat de voorlopige aanslag vóór 24.00 uur wordt betaald, met een link naar alle betaaldagen.Onder deze secties zijn er belangrijke thema's zoals \"Aangifte doen\", \"Toeslagen\", en \"Betalen en ontvangen\", met links naar onderwerpen zoals \"Voorlopige aanslag\", \"Erfbelasting\", \"Schenkbelasting\", en meer.\n",
      "  - context: None\n",
      "  - retrieval context: None\n",
      "\n",
      "======================================================================\n",
      "\n",
      "Metrics Summary\n",
      "\n",
      "  - ❌ Referentie-dekking (SEE-Benchmark) (GEval) (score: 0.6352797692171726, threshold: 0.7, strict: False, evaluation model: gpt-4o, reason: The description is in Dutch and includes most key elements like the menu options and application list. However, 'Beoordelingssystemen' is mentioned instead of 'Besturingssystemen', and 'RijksOverheid' is not in the expected output. The search field is missing, and extra details like 'blauwe balk' are included., error: None)\n",
      "\n",
      "For test case:\n",
      "\n",
      "  - input: \n",
      "  - actual output: De schermafbeelding toont het venster \"Software Center\", een applicatie voor het beheren van software-installaties. Bovenaan het venster staat een blauwe balk met de titel \"RijksOverheid\".\n",
      "\n",
      "Het venster is onderverdeeld in twee delen: een linker zijbalk en een hoofdgebied. De linker zijbalk bevat een menu met de volgende opties:\n",
      "- Toepassingen\n",
      "- Updates\n",
      "- Beoordelingssystemen\n",
      "- Installatiestatus\n",
      "- Apparaatcompatibiliteit\n",
      "- Opties\n",
      "\n",
      "Het hoofdgebied toont een lijst met geïnstalleerde en beschikbare toepassingen. Bovenaan deze lijst staan filters en sorteeropties:\n",
      "- Filter: \"Alles\", \"Vereist\" en \"Aanbevolen\"\n",
      "- Sorteer opties: \"Meest recent\"\n",
      "\n",
      "De lijst met toepassingen bevat de volgende kolommen:\n",
      "- Naam\n",
      "- Uitgever\n",
      "- Versie\n",
      "- Status\n",
      "\n",
      "Enkele voorbeelden van toepassingen in de lijst zijn:\n",
      "- Edge-WebView2 \n",
      "- Cisco-SecureVPNClient\n",
      "- Wacom-PenTablet\n",
      "- PSTWalker-PSTWalker\n",
      "\n",
      "De status van de toepassingen kan \"Geïnstalleerd\" of \"Beschikbaar\" zijn.\n",
      "  - expected output: De applicatie 'Software Center' van de Rijksoverheid is te zien. Deze toont een lijst met geïnstalleerde en beschikbare software op de computer. Links is een menu te zien met de opties: “Toepassingen”, “Updates”, “Besturingssystemen”. “Apparaatcompatibiliteit” en “Opties”. Hiervan is 'Toepassingen' momenteel geselecteerd. Rechts in het scherm is een lijst met applicaties te zien, zoals onder meer Microsoft Edge en Webex. Bovenaan de lijst staan tabbladen met de opties “Alles”, “Vereist” en “Aanbevolen”. De lijst geeft voor elke toepassing de “Naam”, “Uitgever”, “Versie” en “Status” weer, met een filter- en sorteerfunctie. Rechtsboven is een zoekveld zichtbaar om specifieke toepassingen te vinden. Het scherm helpt de gebruiker bij het beheren van de software op hun computer.\n",
      "  - context: None\n",
      "  - retrieval context: None\n",
      "\n",
      "======================================================================\n",
      "\n",
      "Metrics Summary\n",
      "\n",
      "  - ❌ Referentie-dekking (SEE-Benchmark) (GEval) (score: 0.04, threshold: 0.7, strict: False, evaluation model: gpt-4o, reason: The description is mostly in Dutch, but includes English terms like 'Digidoc online' and 'INBOXACTIES' not in the reference. The output includes most functional elements like the sidebar and filter buttons, but misses the navigation bar and specific icons. It adds extra details like a dropdown menu not in the reference. The meaning is mostly retained, but some elements are inaccurately described or missing., error: None)\n",
      "\n",
      "For test case:\n",
      "\n",
      "  - input: \n",
      "  - actual output: Dit is een schermafbeelding van de webapplicatie \"Digidoc online\". Het is een inbox voor documentbeheer.\n",
      "\n",
      "Het scherm toont de inbox van een gebruiker, \"Mevrouwüser01 Dubbele spatie\". De inbox bevat verschillende documenten en taken. De belangrijkste elementen op het scherm zijn:\n",
      "\n",
      "- Een menu aan de linkerkant met opties zoals \"Inboxen\", \"Werk omgewing\", \"Favorieten\" en \"Opties\". \n",
      "- Een lijst met submappen en het aantal documenten daarin, zoals \"DG_AM Fin Toets (2/10)\" en \"IIG2 ECI Toets 1 (8/13)\".\n",
      "- Een tabel met documenten en hun status. De tabel heeft kolommen voor \"Onderwerp\", \"Werkstroomnaam\" en \"Label\". \n",
      "- Knoppen boven de tabel om documenten te filteren op status, zoals \"Huidig werk (52/120)\", \"Ter info (0/0)\" en \"Afgerond werk\". \n",
      "- Een dropdown-menu \"INBOXACTIES\" rechtsboven de tabel.\n",
      "\n",
      "Het scherm biedt functionaliteit voor het beheren van documenten en taken binnen de Digidoc-omgeving. Gebruikers kunnen documenten bekijken, filteren en bewerken.\n",
      "  - expected output: Digidoc Online is te zien. Bovenaan de pagina is een navigatiebalk met daarin de knoppen: \"ZOEK EN VIND\" en \"ZOEK IN DIGIDOC\". Daarnaast zijn er ook 3 icoon-knoppen in de navigatiebalk: een maanicoon (voor een donkere weergave van de pagina), een vraagtekenicoon en een informatieicoon. Links van de pagina is een sidebar met verschilldende tabjes: \"Inboxen\", \"Werkomgeving\", \"Favorieten\" en \"Opties\". Inboxen is geselecteerd met daaronder 6 inboxen weergegeven, waarvan de inbox \"Inbox Mevrouwuser01 Dubbelspatie\" geselecteerd is, en wordt aan de rechterkant van het scherm geopend weergegeven. Bovenaan dit inboxscherm bevinden zich 4 filterknoppen waarmee de inbox gefilterd kan worden: \"Huidig Werk\", \"Ter Info\", \"Afgerond werk\" en \"Bezig met afronden\". Hieronder zijn nog verdere labels die geselecteerd kunnen worden met daaronder de lijst met inboxitems.\n",
      "  - context: None\n",
      "  - retrieval context: None\n",
      "\n",
      "======================================================================\n",
      "\n",
      "Metrics Summary\n",
      "\n",
      "  - ✅ Referentie-dekking (SEE-Benchmark) (GEval) (score: 0.7503905548838878, threshold: 0.7, strict: False, evaluation model: gpt-4o, reason: De beschrijving is volledig in het Nederlands en bevat alle belangrijke elementen zoals de navigatiebalk, zoekveld, en secties over algoritmes. Echter, de specifieke namen van de algoritmes in de sectie met de meest recent gewijzigde beschrijvingen ontbreken, en de plaatsing van het informatieblok verschilt van de referentie., error: None)\n",
      "\n",
      "For test case:\n",
      "\n",
      "  - input: \n",
      "  - actual output: Dit is een webpagina van het Algoritmeregister van de Nederlandse overheid, weergegeven in een browservenster. De pagina heeft als hoofddoel om informatie te bieden over algoritmes die door Nederlandse overheidsorganisaties worden gebruikt.\n",
      "\n",
      "De belangrijkste elementen op de pagina zijn:\n",
      "\n",
      "- Een navigatiebalk met de opties \"Home\", \"Algoritmes\", \"Organisaties\" en \"Dashboard\".\n",
      "- Een zoekveld met de tekst \"Vind een van de 822 algoritmes\" en een knop \"Zoeken\".\n",
      "- Een sectie met de drie meest recent gewijzigde algoritmebeschrijvingen, inclusief links naar deze algoritmes.\n",
      "- Een link om door alle algoritmes te bladeren.\n",
      "- Een informatieblok \"Over dit register\" dat uitlegt wat het Algoritmeregister is en hoe algoritmes geregistreerd kunnen worden.\n",
      "- Drie secties onderaan de pagina: \"Over algoritmes\", \"Samen doorontwikkelen\" en \"Wat kan ik hier doen?\", die elk meer informatie bieden over respectievelijk wat algoritmes zijn, hoe men kan bijdragen aan de ontwikkeling van het register, en hoe men het register kan gebruiken.\n",
      "\n",
      "Deze elementen stellen gebruikers in staat om te zoeken naar specifieke algoritmes, informatie te vinden over het Algoritmeregister en gerelateerde onderwerpen, en om eventueel hun eigen algoritmes te registreren.\n",
      "  - expected output: Een webpagina van overheid.nl met als titel \"Het Algoritmeregister van de Nederlandse overheid\". Bovenaan de pagina zijn er navigatieopties: Home, Algoritmes, Organisaties, Dashboard. Er is een zoekbalk met de tekst \"Vind een van de 822 algoritmes\" en een knop \"Zoeken\". Onder de zoekbalk staat een sectie met de 3 meest recent gewijzigde algoritmebeschrijvingen, waaronder \"Anonimiseren | Gemeente Gemert-Bakel\", \"Anonimiseren | Gemeente Laarbeek\", en \"AERIUS | Provincie Limburg\". Er is ook een link om door alle algoritmes te bladeren. Aan de rechterkant is er informatie over het register, algoritmes, samenwerking en veelgestelde vragen.\n",
      "  - context: None\n",
      "  - retrieval context: None\n",
      "\n",
      "======================================================================\n",
      "\n",
      "Overall Metric Pass Rates\n",
      "\n",
      "Referentie-dekking (SEE-Benchmark) (GEval): 40.00% pass rate\n",
      "\n",
      "======================================================================\n",
      "\n"
     ]
    },
    {
     "name": "stderr",
     "output_type": "stream",
     "text": [
      "\n"
     ]
    },
    {
     "data": {
      "text/html": [
       "<pre style=\"white-space:pre;overflow-x:auto;line-height:normal;font-family:Menlo,'DejaVu Sans Mono',consolas,'Courier New',monospace\">\n",
       "<span style=\"color: #05f58d; text-decoration-color: #05f58d\">✓</span> Tests finished 🎉! Run <span style=\"color: #008000; text-decoration-color: #008000; font-weight: bold\">'deepeval login'</span> to save and analyze evaluation results on Confident AI.\n",
       " \n",
       "✨👀 Looking for a place for your LLM test data to live 🏡❤️ ? Use <span style=\"color: #6a00ff; text-decoration-color: #6a00ff\">Confident AI</span> to get &amp; share testing reports, \n",
       "experiment with models/prompts, and catch regressions for your LLM system. Just run <span style=\"color: #008080; text-decoration-color: #008080\">'deepeval login'</span> in the CLI. \n",
       "\n",
       "</pre>\n"
      ],
      "text/plain": [
       "\n",
       "\u001b[38;2;5;245;141m✓\u001b[0m Tests finished 🎉! Run \u001b[1;32m'deepeval login'\u001b[0m to save and analyze evaluation results on Confident AI.\n",
       " \n",
       "✨👀 Looking for a place for your LLM test data to live 🏡❤️ ? Use \u001b[38;2;106;0;255mConfident AI\u001b[0m to get & share testing reports, \n",
       "experiment with models/prompts, and catch regressions for your LLM system. Just run \u001b[36m'deepeval login'\u001b[0m in the CLI. \n",
       "\n"
      ]
     },
     "metadata": {},
     "output_type": "display_data"
    },
    {
     "name": "stdout",
     "output_type": "stream",
     "text": [
      "Running must-include coverage evaluation...\n"
     ]
    },
    {
     "data": {
      "text/html": [
       "<pre style=\"white-space:pre;overflow-x:auto;line-height:normal;font-family:Menlo,'DejaVu Sans Mono',consolas,'Courier New',monospace\">✨ You're running DeepEval's latest <span style=\"color: #6a00ff; text-decoration-color: #6a00ff\">Verplichte Elementen Dekking </span><span style=\"color: #6a00ff; text-decoration-color: #6a00ff; font-weight: bold\">(</span><span style=\"color: #6a00ff; text-decoration-color: #6a00ff\">GEval</span><span style=\"color: #6a00ff; text-decoration-color: #6a00ff; font-weight: bold\">)</span><span style=\"color: #6a00ff; text-decoration-color: #6a00ff\"> Metric</span>! <span style=\"color: #374151; text-decoration-color: #374151; font-weight: bold\">(</span><span style=\"color: #374151; text-decoration-color: #374151\">using gpt-4o, </span><span style=\"color: #374151; text-decoration-color: #374151\">strict</span><span style=\"color: #374151; text-decoration-color: #374151\">=</span><span style=\"color: #374151; text-decoration-color: #374151; font-style: italic\">False</span><span style=\"color: #374151; text-decoration-color: #374151\">, </span>\n",
       "<span style=\"color: #374151; text-decoration-color: #374151\">async_mode</span><span style=\"color: #374151; text-decoration-color: #374151\">=</span><span style=\"color: #374151; text-decoration-color: #374151; font-style: italic\">True</span><span style=\"color: #374151; text-decoration-color: #374151; font-weight: bold\">)</span><span style=\"color: #374151; text-decoration-color: #374151\">...</span>\n",
       "</pre>\n"
      ],
      "text/plain": [
       "✨ You're running DeepEval's latest \u001b[38;2;106;0;255mVerplichte Elementen Dekking \u001b[0m\u001b[1;38;2;106;0;255m(\u001b[0m\u001b[38;2;106;0;255mGEval\u001b[0m\u001b[1;38;2;106;0;255m)\u001b[0m\u001b[38;2;106;0;255m Metric\u001b[0m! \u001b[1;38;2;55;65;81m(\u001b[0m\u001b[38;2;55;65;81musing gpt-4o, \u001b[0m\u001b[38;2;55;65;81mstrict\u001b[0m\u001b[38;2;55;65;81m=\u001b[0m\u001b[3;38;2;55;65;81mFalse\u001b[0m\u001b[38;2;55;65;81m, \u001b[0m\n",
       "\u001b[38;2;55;65;81masync_mode\u001b[0m\u001b[38;2;55;65;81m=\u001b[0m\u001b[3;38;2;55;65;81mTrue\u001b[0m\u001b[1;38;2;55;65;81m)\u001b[0m\u001b[38;2;55;65;81m...\u001b[0m\n"
      ]
     },
     "metadata": {},
     "output_type": "display_data"
    },
    {
     "name": "stderr",
     "output_type": "stream",
     "text": [
      "Evaluating 5 test case(s) in parallel: |██        | 20% (1/5) [Time Taken: 00:02,  2.21s/test case]"
     ]
    },
    {
     "name": "stdout",
     "output_type": "stream",
     "text": [
      "False !!!!!!!!!!!!\n",
      "False !!!!!!!!!!!!\n",
      "False !!!!!!!!!!!!\n"
     ]
    },
    {
     "name": "stderr",
     "output_type": "stream",
     "text": [
      "Evaluating 5 test case(s) in parallel: |██████████|100% (5/5) [Time Taken: 00:02,  1.98test case/s]"
     ]
    },
    {
     "name": "stdout",
     "output_type": "stream",
     "text": [
      "False !!!!!!!!!!!!\n",
      "False !!!!!!!!!!!!\n",
      "\n",
      "======================================================================\n",
      "\n",
      "Metrics Summary\n",
      "\n",
      "  - ✅ Verplichte Elementen Dekking (GEval) (score: 0.9599051067671297, threshold: 0.8, strict: False, evaluation model: gpt-4o, reason: All required elements are present in the output, including the navigation elements, four information tiles with specific details, and the section with important themes and links., error: None)\n",
      "\n",
      "For test case:\n",
      "\n",
      "  - input: Verplichte elementen die aanwezig moeten zijn: ['Navigatiebalk (Home, Menu, Zoekbalk, Inloggen)', 'Vier informatietegels', \"Informatietegel: 'Aangifte inkomstenbelasting doen' met deadline en inlogknop\", \"Informatietegel: 'Aangifte 2024 gedaan - wanneer hoor ik iets?' met link\", \"Informatietegel: 'Arbeidsrelaties: zzp - ja of nee?' met link\", \"Informatietegel: 'Uitbetalen voorlopige aanslag' met datum en link\", \"Sectie met belangrijke thema's: 'Aangifte doen', 'Toeslagen', 'Betalen en ontvangen'\", \"Links naar onderwerpen zoals 'Voorlopige aanslag', 'Erfbelasting', 'Schenkbelasting'\"]\n",
      "  - actual output: Dit is een schermafbeelding van de website van de Belastingdienst Nederland, weergegeven in een webbrowser. \n",
      "\n",
      "De pagina dient als startpunt voor burgers om informatie en diensten van de Belastingdienst te raadplegen en te gebruiken. \n",
      "\n",
      "De belangrijkste elementen op deze pagina zijn:\n",
      "\n",
      "1. **Navigatie-elementen**: \n",
      "   - Een menu-knop met het label \"Menu\".\n",
      "   - Een zoekveld met de placeholdertekst \"Waar bent u naar op zoek?\" om specifieke informatie te zoeken.\n",
      "   - Een knop met het label \"Inloggen\" om toegang te krijgen tot persoonlijke belastinginformatie.\n",
      "\n",
      "2. **Prominente secties**:\n",
      "   - Een banner met de titel \"Belastingdienst\" en de vraag \"Waarmee kunnen wij u helpen?\" met daaronder drie blokken die verschillende onderwerpen behandelen:\n",
      "     - \"Aangifte inkomstenbelasting doen\" met informatie over de deadline.\n",
      "     - \"Aangifte 2024 gedaan - wanneer hoor ik iets?\" met een link om meer te lezen.\n",
      "     - \"Arbeidsrelaties: zzp - ja of nee?\" met een link naar meer informatie.\n",
      "     - \"Uitbetalen voorlopige aanslag\" met een mededeling over een specifieke betaaldatum.\n",
      "\n",
      "3. **Thema's en links**:\n",
      "   - Een sectie getiteld \"Belangrijke thema's\" met pictogrammen en links naar verschillende belastingonderwerpen, zoals \"Aangifte doen\", \"Toeslagen\", \"Betalen en ontvangsten\", \"Voorlopige aanslag\", \"Erfbelasting\", \"Schenkbelasting\", \"Herstel kinderopvangtoeslag\", \"Btw\", \"Eigen woning\", \"Douane\", en \"Startende ondernemers\".\n",
      "\n",
      "Deze elementen stellen gebruikers in staat om snel toegang te krijgen tot relevante informatie en diensten van de Belastingdienst.\n",
      "  - expected output: \n",
      "  - context: None\n",
      "  - retrieval context: None\n",
      "\n",
      "======================================================================\n",
      "\n",
      "Metrics Summary\n",
      "\n",
      "  - ❌ Verplichte Elementen Dekking (GEval) (score: 0.27507677810236564, threshold: 0.8, strict: False, evaluation model: gpt-4o, reason: The output includes the document title 'Assignment 1: Portfolio' but lacks colored markings, author names, and specific marked words per color., error: None)\n",
      "\n",
      "For test case:\n",
      "\n",
      "  - input: Verplichte elementen die aanwezig moeten zijn: [\"Titel van het document: 'Assignment 1: Portfolio'\", 'Gekleurde markeringen in de tekst (roze, groen, paars, geel)', 'Namen van auteurs: Cédrick Makhlouf en Tom de Haas', 'Specifieke gemarkeerde woorden per kleur']\n",
      "  - actual output: De schermafbeelding toont een Microsoft Word-document op een computer.\n",
      "\n",
      "Het document is getiteld \"Assignment 1: Portfolio\" en bevat een inleiding over een patiënt met Colitis Ulcerosa. De tekst is geschreven in het Engels en bevat markeringen en annotaties.\n",
      "\n",
      "De belangrijkste elementen in het scherm zijn:\n",
      "* De menubalk bovenaan met opties zoals \"Bestand\", \"Start\", \"Invoegen\", enz.\n",
      "* De werkbalk onder de menubalk met knoppen voor tekstbewerking, zoals \"Calibri\", \"Lettertype\", \"Tekst uitlijnen\", enz.\n",
      "* Het document zelf, dat de titel \"Assignment 1: Portfolio\" draagt en een inleiding bevat over een patiënt met Colitis Ulcerosa.\n",
      "* De statusbalk onderaan het scherm met informatie over de pagina, het aantal woorden en de taal.\n",
      "\n",
      "Het hoofddoel van het scherm is het bewerken van het Word-document. De belangrijkste interactie-elementen zijn de knoppen en menu's voor tekstbewerking, evenals het document zelf dat kan worden gelezen en bewerkt.\n",
      "  - expected output: \n",
      "  - context: None\n",
      "  - retrieval context: None\n",
      "\n",
      "======================================================================\n",
      "\n",
      "Metrics Summary\n",
      "\n",
      "  - ❌ Verplichte Elementen Dekking (GEval) (score: 0.7794976478042208, threshold: 0.8, strict: False, evaluation model: gpt-4o, reason: The output includes 'Software Center', a list of installed and available software, a left menu with options, a right list with applications, tabs, and columns with Name, Publisher, Version, and Status. However, it lacks mention of a 'search field at the top right'., error: None)\n",
      "\n",
      "For test case:\n",
      "\n",
      "  - input: Verplichte elementen die aanwezig moeten zijn: ['Software Center', 'Lijst met geïnstalleerde en beschikbare software', 'Links menu met opties (Toepassingen, Updates, Besturingssystemen, Apparaatcompatibiliteit, Opties)', 'Rechts lijst met applicaties', 'Tabbladen (Alles, Vereist, Aanbevolen)', 'Kolommen met Naam, Uitgever, Versie en Status', 'Zoekveld rechtsboven']\n",
      "  - actual output: De schermafbeelding toont het venster \"Software Center\", een applicatie voor het beheren van software-installaties. Bovenaan het venster staat een blauwe balk met de titel \"RijksOverheid\".\n",
      "\n",
      "Het venster is onderverdeeld in twee delen: een linker zijbalk en een hoofdgebied. De linker zijbalk bevat een menu met de volgende opties:\n",
      "- Toepassingen\n",
      "- Updates\n",
      "- Beoordelingssystemen\n",
      "- Installatiestatus\n",
      "- Apparaatcompatibiliteit\n",
      "- Opties\n",
      "\n",
      "Het hoofdgebied toont een lijst met geïnstalleerde en beschikbare toepassingen. Bovenaan deze lijst staan filters en sorteeropties:\n",
      "- Filter: \"Alles\", \"Vereist\" en \"Aanbevolen\"\n",
      "- Sorteer opties: \"Meest recent\"\n",
      "\n",
      "De lijst met toepassingen bevat de volgende kolommen:\n",
      "- Naam\n",
      "- Uitgever\n",
      "- Versie\n",
      "- Status\n",
      "\n",
      "Enkele voorbeelden van toepassingen in de lijst zijn:\n",
      "- Edge-WebView2 \n",
      "- Cisco-SecureVPNClient\n",
      "- Wacom-PenTablet\n",
      "- PSTWalker-PSTWalker\n",
      "\n",
      "De status van de toepassingen kan \"Geïnstalleerd\" of \"Beschikbaar\" zijn.\n",
      "  - expected output: \n",
      "  - context: None\n",
      "  - retrieval context: None\n",
      "\n",
      "======================================================================\n",
      "\n",
      "Metrics Summary\n",
      "\n",
      "  - ✅ Verplichte Elementen Dekking (GEval) (score: 0.8570394500152558, threshold: 0.8, strict: False, evaluation model: gpt-4o, reason: The output includes all required elements: a navigation bar, search field, search button, list of recently changed algorithms, and a link to view all algorithms. It mentions three information sections instead of four, which slightly affects completeness., error: None)\n",
      "\n",
      "For test case:\n",
      "\n",
      "  - input: Verplichte elementen die aanwezig moeten zijn: ['Navigatiebalk (Home, Algoritmes, Organisaties, Dashboard)', 'Zoekbalk', 'Zoek knop', 'Lijst met recent gewijzigde algoritmes', 'Link om alle algoritmes te bekijken', '4 informatieblokken']\n",
      "  - actual output: Dit is een webpagina van het Algoritmeregister van de Nederlandse overheid, weergegeven in een browservenster. De pagina heeft als hoofddoel om informatie te bieden over algoritmes die door Nederlandse overheidsorganisaties worden gebruikt.\n",
      "\n",
      "De belangrijkste elementen op de pagina zijn:\n",
      "\n",
      "- Een navigatiebalk met de opties \"Home\", \"Algoritmes\", \"Organisaties\" en \"Dashboard\".\n",
      "- Een zoekveld met de tekst \"Vind een van de 822 algoritmes\" en een knop \"Zoeken\".\n",
      "- Een sectie met de drie meest recent gewijzigde algoritmebeschrijvingen, inclusief links naar deze algoritmes.\n",
      "- Een link om door alle algoritmes te bladeren.\n",
      "- Een informatieblok \"Over dit register\" dat uitlegt wat het Algoritmeregister is en hoe algoritmes geregistreerd kunnen worden.\n",
      "- Drie secties onderaan de pagina: \"Over algoritmes\", \"Samen doorontwikkelen\" en \"Wat kan ik hier doen?\", die elk meer informatie bieden over respectievelijk wat algoritmes zijn, hoe men kan bijdragen aan de ontwikkeling van het register, en hoe men het register kan gebruiken.\n",
      "\n",
      "Deze elementen stellen gebruikers in staat om te zoeken naar specifieke algoritmes, informatie te vinden over het Algoritmeregister en gerelateerde onderwerpen, en om eventueel hun eigen algoritmes te registreren.\n",
      "  - expected output: \n",
      "  - context: None\n",
      "  - retrieval context: None\n",
      "\n",
      "======================================================================\n",
      "\n",
      "Metrics Summary\n",
      "\n",
      "  - ❌ Verplichte Elementen Dekking (GEval) (score: 0.7641732019044964, threshold: 0.8, strict: False, evaluation model: gpt-4o, reason: The output includes most required elements such as the sidebar with tabs, inbox items, and filter buttons with functionality. However, it lacks explicit mention of 'Navigatiebalk (Zoekenvind, Zoekindoc)' and 'inboxen (6)'., error: None)\n",
      "\n",
      "For test case:\n",
      "\n",
      "  - input: Verplichte elementen die aanwezig moeten zijn: ['Navigatiebalk (Zoekenvind, Zoekindoc)', 'Linker sidebar', 'sidebar tabjes (inboxen, werkomgeving, favorieten, opties)', 'inboxen (6)', 'Inbox Mevrouwuser01 geselecteerd en rechts geopend', 'De 4 verschillende knoppen Huidig Werk, Ter Info, Afgerond Werk en Bezig met afronden', 'aangeven dat deze 4 knoppen een filterfunctionaliteit hebben', 'De lijst met inboxitems']\n",
      "  - actual output: Dit is een schermafbeelding van de webapplicatie \"Digidoc online\". Het is een inbox voor documentbeheer.\n",
      "\n",
      "Het scherm toont de inbox van een gebruiker, \"Mevrouwüser01 Dubbele spatie\". De inbox bevat verschillende documenten en taken. De belangrijkste elementen op het scherm zijn:\n",
      "\n",
      "- Een menu aan de linkerkant met opties zoals \"Inboxen\", \"Werk omgewing\", \"Favorieten\" en \"Opties\". \n",
      "- Een lijst met submappen en het aantal documenten daarin, zoals \"DG_AM Fin Toets (2/10)\" en \"IIG2 ECI Toets 1 (8/13)\".\n",
      "- Een tabel met documenten en hun status. De tabel heeft kolommen voor \"Onderwerp\", \"Werkstroomnaam\" en \"Label\". \n",
      "- Knoppen boven de tabel om documenten te filteren op status, zoals \"Huidig werk (52/120)\", \"Ter info (0/0)\" en \"Afgerond werk\". \n",
      "- Een dropdown-menu \"INBOXACTIES\" rechtsboven de tabel.\n",
      "\n",
      "Het scherm biedt functionaliteit voor het beheren van documenten en taken binnen de Digidoc-omgeving. Gebruikers kunnen documenten bekijken, filteren en bewerken.\n",
      "  - expected output: \n",
      "  - context: None\n",
      "  - retrieval context: None\n",
      "\n",
      "======================================================================\n",
      "\n",
      "Overall Metric Pass Rates\n",
      "\n",
      "Verplichte Elementen Dekking (GEval): 40.00% pass rate\n",
      "\n",
      "======================================================================\n",
      "\n"
     ]
    },
    {
     "name": "stderr",
     "output_type": "stream",
     "text": [
      "\n"
     ]
    },
    {
     "data": {
      "text/html": [
       "<pre style=\"white-space:pre;overflow-x:auto;line-height:normal;font-family:Menlo,'DejaVu Sans Mono',consolas,'Courier New',monospace\">\n",
       "<span style=\"color: #05f58d; text-decoration-color: #05f58d\">✓</span> Tests finished 🎉! Run <span style=\"color: #008000; text-decoration-color: #008000; font-weight: bold\">'deepeval login'</span> to save and analyze evaluation results on Confident AI.\n",
       " \n",
       "✨👀 Looking for a place for your LLM test data to live 🏡❤️ ? Use <span style=\"color: #6a00ff; text-decoration-color: #6a00ff\">Confident AI</span> to get &amp; share testing reports, \n",
       "experiment with models/prompts, and catch regressions for your LLM system. Just run <span style=\"color: #008080; text-decoration-color: #008080\">'deepeval login'</span> in the CLI. \n",
       "\n",
       "</pre>\n"
      ],
      "text/plain": [
       "\n",
       "\u001b[38;2;5;245;141m✓\u001b[0m Tests finished 🎉! Run \u001b[1;32m'deepeval login'\u001b[0m to save and analyze evaluation results on Confident AI.\n",
       " \n",
       "✨👀 Looking for a place for your LLM test data to live 🏡❤️ ? Use \u001b[38;2;106;0;255mConfident AI\u001b[0m to get & share testing reports, \n",
       "experiment with models/prompts, and catch regressions for your LLM system. Just run \u001b[36m'deepeval login'\u001b[0m in the CLI. \n",
       "\n"
      ]
     },
     "metadata": {},
     "output_type": "display_data"
    }
   ],
   "source": [
    "# Part 2: Complete evaluation script\n",
    "from deepeval import evaluate\n",
    "from deepeval.test_case import LLMTestCase\n",
    "import pandas as pd\n",
    "\n",
    "# Load your model outputs\n",
    "model_outputs_df = pd.read_excel(EVAL_INPUT_XLSX)\n",
    "\n",
    "# Create test cases for both metrics\n",
    "reference_test_cases = []\n",
    "must_include_test_cases = []\n",
    "\n",
    "for idx, row in model_outputs_df.iterrows():\n",
    "    image_id = str(row['image_id']).zfill(3)\n",
    "    model_output = row['model_output']\n",
    "\n",
    "    # Find reference description\n",
    "    reference = None\n",
    "    must_include_elements = []\n",
    "    \n",
    "    for annotation in annotations:\n",
    "        ann_id = str(annotation.get('image_id', '')).zfill(3)\n",
    "        if ann_id == image_id:\n",
    "            reference = annotation.get('reference_description', None)\n",
    "            must_include_elements = annotation.get('must_include', [])\n",
    "            break\n",
    "\n",
    "    if reference is None:\n",
    "        print(f\"Warning: No reference found for image_id {image_id}\")\n",
    "        continue\n",
    "\n",
    "    # Test case for reference coverage\n",
    "    reference_test_cases.append(\n",
    "        LLMTestCase(\n",
    "            input=\"\",\n",
    "            actual_output=model_output,\n",
    "            expected_output=reference,\n",
    "            additional_metadata={\"image_id\": image_id, \"metric\": \"reference_coverage\"}\n",
    "        )\n",
    "    )\n",
    "\n",
    "    # Test case for must-include coverage (only if must_include elements exist)\n",
    "    if must_include_elements:\n",
    "        # Format the must_include elements for the input\n",
    "        must_include_input = f\"Verplichte elementen die aanwezig moeten zijn: {must_include_elements}\"\n",
    "        \n",
    "        must_include_test_cases.append(\n",
    "            LLMTestCase(\n",
    "                input=must_include_input,\n",
    "                actual_output=model_output,\n",
    "                expected_output=\"\",  # Not used for this metric\n",
    "                additional_metadata={\"image_id\": image_id, \"metric\": \"must_include_coverage\", \"must_include\": must_include_elements}\n",
    "            )\n",
    "        )\n",
    "\n",
    "print(f\"Created {len(reference_test_cases)} reference coverage test cases\")\n",
    "print(f\"Created {len(must_include_test_cases)} must-include coverage test cases\")\n",
    "\n",
    "print(\"Running reference coverage evaluation...\")\n",
    "reference_results = evaluate(test_cases=reference_test_cases, metrics=[reference_coverage_eval])\n",
    "\n",
    "print(\"Running must-include coverage evaluation...\")\n",
    "must_include_results = evaluate(test_cases=must_include_test_cases, metrics=[must_include_coverage_eval])\n"
   ]
  },
  {
   "cell_type": "markdown",
   "id": "4d75c93d",
   "metadata": {},
   "source": [
    "# 📊 Step 5: Aggregate evaluation results and export scored overview"
   ]
  },
  {
   "cell_type": "code",
   "execution_count": 19,
   "id": "969e3758",
   "metadata": {
    "vscode": {
     "languageId": "ruby"
    }
   },
   "outputs": [
    {
     "name": "stdout",
     "output_type": "stream",
     "text": [
      "================================================================================\n",
      "INDIVIDUAL TEST SCORES\n",
      "================================================================================\n",
      "image_id  reference_score  reference_pass  must_include_score  must_include_pass  overall_pass\n",
      "     003         0.020000           False            0.275077              False         False\n",
      "     002         0.788565            True            0.959905               True          True\n",
      "     005         0.635280           False            0.779498              False         False\n",
      "     004         0.040000           False            0.764173              False         False\n",
      "     001         0.750391            True            0.857039               True          True\n",
      "\n",
      "================================================================================\n",
      "OVERALL SUMMARY\n",
      "================================================================================\n",
      "Overall Pass Rate: 40.00%\n",
      "Passed Tests: 2/5\n",
      "Average Reference Score: 0.4468\n",
      "Average Must-Include Score: 0.7271\n",
      "\n",
      "✅ Detailed results saved to results\\example_descriptions__unknown__20250629_1127__eval.csv\n"
     ]
    }
   ],
   "source": [
    "# Extract individual test scores from both evaluations\n",
    "reference_scores = []\n",
    "for test_result in reference_results.test_results:\n",
    "    metric_data = test_result.metrics_data[0]\n",
    "    reference_scores.append({\n",
    "        'image_id': test_result.additional_metadata.get('image_id', 'unknown'),\n",
    "        'reference_score': metric_data.score,\n",
    "        'reference_pass': metric_data.success,\n",
    "        'reference_reason': metric_data.reason\n",
    "    })\n",
    "\n",
    "must_include_scores = []\n",
    "for test_result in must_include_results.test_results:\n",
    "    metric_data = test_result.metrics_data[0]\n",
    "    must_include_scores.append({\n",
    "        'image_id': test_result.additional_metadata.get('image_id', 'unknown'),\n",
    "        'must_include_score': metric_data.score,\n",
    "        'must_include_pass': metric_data.success,\n",
    "        'must_include_reason': metric_data.reason\n",
    "    })\n",
    "\n",
    "# Create DataFrames\n",
    "ref_df = pd.DataFrame(reference_scores)\n",
    "must_df = pd.DataFrame(must_include_scores)\n",
    "\n",
    "# Merge the results\n",
    "scores_df = ref_df.merge(must_df, on='image_id', how='left')\n",
    "scores_df['must_include_score'] = scores_df['must_include_score'].fillna('N/A')\n",
    "scores_df['must_include_pass'] = scores_df['must_include_pass'].fillna('N/A')\n",
    "\n",
    "# Calculate overall pass\n",
    "scores_df['overall_pass'] = scores_df.apply(\n",
    "    lambda row: row['reference_pass'] if row['must_include_pass'] == 'N/A' \n",
    "    else row['reference_pass'] and row['must_include_pass'], axis=1\n",
    ")\n",
    "\n",
    "# Display individual scores\n",
    "print(\"=\"*80)\n",
    "print(\"INDIVIDUAL TEST SCORES\")\n",
    "print(\"=\"*80)\n",
    "print(scores_df[['image_id', 'reference_score', 'reference_pass', 'must_include_score', 'must_include_pass', 'overall_pass']].to_string(index=False))\n",
    "\n",
    "# Display summary\n",
    "print(f\"\\n{'='*80}\")\n",
    "print(\"OVERALL SUMMARY\")\n",
    "print(\"=\"*80)\n",
    "total_tests = len(scores_df)\n",
    "passed_tests = scores_df['overall_pass'].sum()\n",
    "overall_pass_rate = (passed_tests / total_tests) * 100\n",
    "\n",
    "print(f\"Overall Pass Rate: {overall_pass_rate:.2f}%\")\n",
    "print(f\"Passed Tests: {passed_tests}/{total_tests}\")\n",
    "print(f\"Average Reference Score: {scores_df['reference_score'].mean():.4f}\")\n",
    "\n",
    "must_include_numeric = scores_df[scores_df['must_include_score'] != 'N/A']['must_include_score']\n",
    "if len(must_include_numeric) > 0:\n",
    "    print(f\"Average Must-Include Score: {must_include_numeric.mean():.4f}\")\n",
    "\n",
    "# Save results to results/\n",
    "from pathlib import Path\n",
    "results_dir = \"results\"\n",
    "os.makedirs(results_dir, exist_ok=True)\n",
    "\n",
    "# Extract model and prompt version from filename\n",
    "parts = Path(EVAL_INPUT_XLSX).stem.split('__')\n",
    "model_name_raw = parts[0]\n",
    "prompt_version = parts[1] if len(parts) > 1 else \"unknown\"\n",
    "timestamp = datetime.now().strftime(\"%Y%m%d_%H%M\")\n",
    "\n",
    "file_basename = f\"{model_name_raw}__{prompt_version}__{timestamp}\"\n",
    "eval_path = os.path.join(results_dir, f\"{file_basename}__eval.csv\")\n",
    "scores_df.to_csv(eval_path, index=False)\n",
    "\n",
    "print(f\"\\n✅ Detailed results saved to {eval_path}\")\n"
   ]
  }
 ],
 "metadata": {
  "kernelspec": {
   "display_name": "base",
   "language": "python",
   "name": "python3"
  },
  "language_info": {
   "codemirror_mode": {
    "name": "ipython",
    "version": 3
   },
   "file_extension": ".py",
   "mimetype": "text/x-python",
   "name": "python",
   "nbconvert_exporter": "python",
   "pygments_lexer": "ipython3",
   "version": "3.12.7"
  }
 },
 "nbformat": 4,
 "nbformat_minor": 5
}
