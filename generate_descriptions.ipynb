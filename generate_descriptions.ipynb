{
 "cells": [
  {
   "cell_type": "markdown",
   "id": "65b383a6",
   "metadata": {},
   "source": [
    "# 🖼️ Generate Screen Descriptions\n",
    "This notebook runs a selected Vision-Language Model (VLM) on 100 annotated Dutch desktop screenshots using a chosen prompt, generating structured screen descriptions for blind users."
   ]
  },
  {
   "cell_type": "markdown",
   "id": "b051b292",
   "metadata": {},
   "source": [
    "# 🛠️ Configuration"
   ]
  },
  {
   "cell_type": "code",
   "execution_count": 31,
   "id": "6c5a36fd",
   "metadata": {},
   "outputs": [],
   "source": [
    "MODEL_NAME = \"meta-llama/Llama-4-Maverick-17B-128E-Instruct-FP8\"\n",
    "PROMPT_VERSION = \"saliency\"\n",
    "\n",
    "PROMPT_TEXT = \"\"\"\n",
    "Beschrijf deze schermafbeelding voor een blinde gebruiker, met nadruk op de belangrijkste en functioneel relevante onderdelen.\n",
    "\n",
    "Begin met het type scherm en de applicatie of website (indien zichtbaar). Beschrijf vervolgens het hoofddoel van het scherm en de belangrijkste elementen die een gebruiker nodig heeft om ermee te werken: koppen, knoppen, formulieren, foutmeldingen of statusinformatie.\n",
    "\n",
    "Vermijd irrelevante of decoratieve details. Noem alleen elementen die bijdragen aan begrip of interactie met het scherm. Houd de beschrijving compact, neutraal en volledig in het Nederlands.\n",
    "\"\"\"\n"
   ]
  },
  {
   "cell_type": "markdown",
   "id": "4f5bc208",
   "metadata": {},
   "source": [
    "# 📦 Step 1: Setup and Imports"
   ]
  },
  {
   "cell_type": "code",
   "execution_count": 32,
   "id": "087562d8",
   "metadata": {},
   "outputs": [],
   "source": [
    "import os\n",
    "import base64\n",
    "import json\n",
    "import pandas as pd\n",
    "from pathlib import Path\n",
    "from datetime import datetime\n",
    "from dotenv import load_dotenv\n",
    "from together import Together\n",
    "import matplotlib.pyplot as plt\n",
    "import seaborn as sns\n",
    "from scipy.stats import pearsonr, spearmanr\n",
    "\n",
    "load_dotenv()\n",
    "client = Together()"
   ]
  },
  {
   "cell_type": "markdown",
   "id": "de1ef1b9",
   "metadata": {},
   "source": [
    "# 📂 Step 2: Load Annotations"
   ]
  },
  {
   "cell_type": "code",
   "execution_count": 33,
   "id": "3a4f6fa7",
   "metadata": {},
   "outputs": [],
   "source": [
    "with open(\"annotation_dataset/annotations.json\", \"r\", encoding=\"utf-8\") as f:\n",
    "    annotations = json.load(f)"
   ]
  },
  {
   "cell_type": "markdown",
   "id": "65808a54",
   "metadata": {},
   "source": [
    "# 🧠 Step 3: Define Encoding and Query Functions"
   ]
  },
  {
   "cell_type": "code",
   "execution_count": 34,
   "id": "225b5db0",
   "metadata": {},
   "outputs": [],
   "source": [
    "def encode_image_to_data_url(image_path):\n",
    "    \"\"\"\n",
    "    Convert a local PNG file to a base64-encoded data URL.\n",
    "    This format is required by the Together API for vision inputs.\n",
    "    \"\"\"\n",
    "    with open(image_path, \"rb\") as f:\n",
    "        b64 = base64.b64encode(f.read()).decode(\"utf-8\")\n",
    "    return f\"data:image/png;base64,{b64}\"\n",
    "\n",
    "def query_model(image_data_url, prompt):\n",
    "    \"\"\"\n",
    "    Send a prompt and encoded image to the selected model on Together.\n",
    "    Returns the model-generated screen description.\n",
    "    \"\"\"\n",
    "    response = client.chat.completions.create(\n",
    "        model=MODEL_NAME,\n",
    "        messages=[{\n",
    "            \"role\": \"user\",\n",
    "            \"content\": [\n",
    "                {\"type\": \"text\", \"text\": prompt},\n",
    "                {\"type\": \"image_url\", \"image_url\": {\"url\": image_data_url}}\n",
    "            ]\n",
    "        }]\n",
    "    )\n",
    "    return response.choices[0].message.content.strip()"
   ]
  },
  {
   "cell_type": "markdown",
   "id": "cfcd6a58",
   "metadata": {},
   "source": [
    "# 📸 Step 4: Evaluate One Image"
   ]
  },
  {
   "cell_type": "code",
   "execution_count": 35,
   "id": "96271445",
   "metadata": {},
   "outputs": [],
   "source": [
    "def evaluate_image_entry(entry, prompt, prompt_version):\n",
    "    \"\"\"\n",
    "    Processes one image entry:\n",
    "    - Loads the image by ID\n",
    "    - Encodes it for Together API\n",
    "    - Sends it with the prompt\n",
    "    - Returns a structured result dict\n",
    "    \"\"\"\n",
    "    image_id = entry[\"image_id\"]\n",
    "    image_path = Path(f\"annotation_dataset/images/{image_id}.png\")\n",
    "\n",
    "    if not image_path.exists():\n",
    "        print(f\"⚠️ Skipping {image_id} — image not found at {image_path}\")\n",
    "        return None\n",
    "\n",
    "    print(f\"🔍 Analyzing image {image_id}...\")\n",
    "\n",
    "    data_url = encode_image_to_data_url(image_path)\n",
    "    model_output = query_model(data_url, prompt)\n",
    "\n",
    "    print(f\"✅ Done: {image_id}\")\n",
    "    print(f\"📝 Output: {model_output.strip()}\\n\")\n",
    "\n",
    "    return {\n",
    "        \"image_id\": image_id,\n",
    "        \"prompt_version\": prompt_version,\n",
    "        \"prompt\": prompt,\n",
    "        \"model\": MODEL_NAME,\n",
    "        \"model_output\": model_output.strip()\n",
    "    }"
   ]
  },
  {
   "cell_type": "markdown",
   "id": "5074d4b4",
   "metadata": {},
   "source": [
    "# 🚀 Step 5: Run Inference on All Screens"
   ]
  },
  {
   "cell_type": "code",
   "execution_count": null,
   "id": "c984a227",
   "metadata": {},
   "outputs": [
    {
     "name": "stdout",
     "output_type": "stream",
     "text": [
      "🔍 Analyzing image 001...\n",
      "✅ Done: 001\n",
      "📝 Output: Dit is een webpagina van het Algoritmeregister van de Nederlandse overheid, weergegeven in een browservenster. De pagina heeft als hoofddoel om informatie te bieden over algoritmes die door Nederlandse overheidsorganisaties worden gebruikt.\n",
      "\n",
      "De belangrijkste elementen op de pagina zijn:\n",
      "\n",
      "- Een navigatiebalk met de opties \"Home\", \"Algoritmes\", \"Organisaties\" en \"Dashboard\".\n",
      "- Een zoekveld met de tekst \"Vind een van de 822 algoritmes\" en een knop \"Zoeken\".\n",
      "- Een sectie met de drie meest recent gewijzigde algoritmebeschrijvingen, inclusief links naar deze algoritmes.\n",
      "- Een link om door alle algoritmes te bladeren.\n",
      "- Een informatieblok \"Over dit register\" dat uitlegt wat het Algoritmeregister is en hoe algoritmes geregistreerd kunnen worden.\n",
      "- Drie secties onderaan de pagina: \"Over algoritmes\", \"Samen doorontwikkelen\" en \"Wat kan ik hier doen?\", die elk meer informatie bieden over respectievelijk wat algoritmes zijn, hoe men kan bijdragen aan de ontwikkeling van het register, en hoe men het register kan gebruiken.\n",
      "\n",
      "Deze elementen stellen gebruikers in staat om te zoeken naar specifieke algoritmes, informatie te vinden over het Algoritmeregister en gerelateerde onderwerpen, en om eventueel hun eigen algoritmes te registreren.\n",
      "\n",
      "🔍 Analyzing image 002...\n",
      "✅ Done: 002\n",
      "📝 Output: Dit is een schermafbeelding van de website van de Belastingdienst Nederland, weergegeven in een webbrowser. \n",
      "\n",
      "De pagina dient als startpunt voor burgers om informatie en diensten van de Belastingdienst te raadplegen en te gebruiken. \n",
      "\n",
      "De belangrijkste elementen op deze pagina zijn:\n",
      "\n",
      "1. **Navigatie-elementen**: \n",
      "   - Een menu-knop met het label \"Menu\".\n",
      "   - Een zoekveld met de placeholdertekst \"Waar bent u naar op zoek?\" om specifieke informatie te zoeken.\n",
      "   - Een knop met het label \"Inloggen\" om toegang te krijgen tot persoonlijke belastinginformatie.\n",
      "\n",
      "2. **Prominente secties**:\n",
      "   - Een banner met de titel \"Belastingdienst\" en de vraag \"Waarmee kunnen wij u helpen?\" met daaronder drie blokken die verschillende onderwerpen behandelen:\n",
      "     - \"Aangifte inkomstenbelasting doen\" met informatie over de deadline.\n",
      "     - \"Aangifte 2024 gedaan - wanneer hoor ik iets?\" met een link om meer te lezen.\n",
      "     - \"Arbeidsrelaties: zzp - ja of nee?\" met een link naar meer informatie.\n",
      "     - \"Uitbetalen voorlopige aanslag\" met een mededeling over een specifieke betaaldatum.\n",
      "\n",
      "3. **Thema's en links**:\n",
      "   - Een sectie getiteld \"Belangrijke thema's\" met pictogrammen en links naar verschillende belastingonderwerpen, zoals \"Aangifte doen\", \"Toeslagen\", \"Betalen en ontvangsten\", \"Voorlopige aanslag\", \"Erfbelasting\", \"Schenkbelasting\", \"Herstel kinderopvangtoeslag\", \"Btw\", \"Eigen woning\", \"Douane\", en \"Startende ondernemers\".\n",
      "\n",
      "Deze elementen stellen gebruikers in staat om snel toegang te krijgen tot relevante informatie en diensten van de Belastingdienst.\n",
      "\n",
      "🔍 Analyzing image 003...\n",
      "✅ Done: 003\n",
      "📝 Output: De schermafbeelding toont een Microsoft Word-document op een computer.\n",
      "\n",
      "Het document is getiteld \"Assignment 1: Portfolio\" en bevat een inleiding over een patiënt met Colitis Ulcerosa. De tekst is geschreven in het Engels en bevat markeringen en annotaties.\n",
      "\n",
      "De belangrijkste elementen in het scherm zijn:\n",
      "* De menubalk bovenaan met opties zoals \"Bestand\", \"Start\", \"Invoegen\", enz.\n",
      "* De werkbalk onder de menubalk met knoppen voor tekstbewerking, zoals \"Calibri\", \"Lettertype\", \"Tekst uitlijnen\", enz.\n",
      "* Het document zelf, dat de titel \"Assignment 1: Portfolio\" draagt en een inleiding bevat over een patiënt met Colitis Ulcerosa.\n",
      "* De statusbalk onderaan het scherm met informatie over de pagina, het aantal woorden en de taal.\n",
      "\n",
      "Het hoofddoel van het scherm is het bewerken van het Word-document. De belangrijkste interactie-elementen zijn de knoppen en menu's voor tekstbewerking, evenals het document zelf dat kan worden gelezen en bewerkt.\n",
      "\n",
      "🔍 Analyzing image 004...\n",
      "✅ Done: 004\n",
      "📝 Output: Dit is een schermafbeelding van de webapplicatie \"Digidoc online\". Het is een inbox voor documentbeheer.\n",
      "\n",
      "Het scherm toont de inbox van een gebruiker, \"Mevrouwüser01 Dubbele spatie\". De inbox bevat verschillende documenten en taken. De belangrijkste elementen op het scherm zijn:\n",
      "\n",
      "- Een menu aan de linkerkant met opties zoals \"Inboxen\", \"Werk omgewing\", \"Favorieten\" en \"Opties\". \n",
      "- Een lijst met submappen en het aantal documenten daarin, zoals \"DG_AM Fin Toets (2/10)\" en \"IIG2 ECI Toets 1 (8/13)\".\n",
      "- Een tabel met documenten en hun status. De tabel heeft kolommen voor \"Onderwerp\", \"Werkstroomnaam\" en \"Label\". \n",
      "- Knoppen boven de tabel om documenten te filteren op status, zoals \"Huidig werk (52/120)\", \"Ter info (0/0)\" en \"Afgerond werk\". \n",
      "- Een dropdown-menu \"INBOXACTIES\" rechtsboven de tabel.\n",
      "\n",
      "Het scherm biedt functionaliteit voor het beheren van documenten en taken binnen de Digidoc-omgeving. Gebruikers kunnen documenten bekijken, filteren en bewerken.\n",
      "\n",
      "🔍 Analyzing image 005...\n",
      "✅ Done: 005\n",
      "📝 Output: De schermafbeelding toont het venster \"Software Center\", een applicatie voor het beheren van software-installaties. Bovenaan het venster staat een blauwe balk met de titel \"RijksOverheid\".\n",
      "\n",
      "Het venster is onderverdeeld in twee delen: een linker zijbalk en een hoofdgebied. De linker zijbalk bevat een menu met de volgende opties:\n",
      "- Toepassingen\n",
      "- Updates\n",
      "- Beoordelingssystemen\n",
      "- Installatiestatus\n",
      "- Apparaatcompatibiliteit\n",
      "- Opties\n",
      "\n",
      "Het hoofdgebied toont een lijst met geïnstalleerde en beschikbare toepassingen. Bovenaan deze lijst staan filters en sorteeropties:\n",
      "- Filter: \"Alles\", \"Vereist\" en \"Aanbevolen\"\n",
      "- Sorteer opties: \"Meest recent\"\n",
      "\n",
      "De lijst met toepassingen bevat de volgende kolommen:\n",
      "- Naam\n",
      "- Uitgever\n",
      "- Versie\n",
      "- Status\n",
      "\n",
      "Enkele voorbeelden van toepassingen in de lijst zijn:\n",
      "- Edge-WebView2 \n",
      "- Cisco-SecureVPNClient\n",
      "- Wacom-PenTablet\n",
      "- PSTWalker-PSTWalker\n",
      "\n",
      "De status van de toepassingen kan \"Geïnstalleerd\" of \"Beschikbaar\" zijn.\n",
      "\n"
     ]
    }
   ],
   "source": [
    "results = []\n",
    "for i, entry in enumerate(annotations):\n",
    "    result = evaluate_image_entry(entry, PROMPT_TEXT, PROMPT_VERSION)\n",
    "    if result:\n",
    "        results.append(result)\n",
    "\n",
    "df_results = pd.DataFrame(results)\n"
   ]
  },
  {
   "cell_type": "markdown",
   "id": "0005eb2a",
   "metadata": {},
   "source": [
    "# 💾 Step 6: Save Results to JSON"
   ]
  },
  {
   "cell_type": "code",
   "execution_count": null,
   "id": "70a7fff2",
   "metadata": {},
   "outputs": [
    {
     "name": "stdout",
     "output_type": "stream",
     "text": [
      "✅ Results saved to results\\meta-llama_Llama-4-Maverick-17B-128E-Instruct-FP8__saliency__20250629_1115.xlsx\n"
     ]
    }
   ],
   "source": [
    "import os\n",
    "from datetime import datetime\n",
    "\n",
    "results_dir = \"descriptions\"\n",
    "os.makedirs(results_dir, exist_ok=True)\n",
    "\n",
    "timestamp = datetime.now().strftime(\"%Y%m%d_%H%M\")\n",
    "file_basename = f\"{MODEL_NAME.replace('/', '_')}__{PROMPT_VERSION}__{timestamp}\"\n",
    "filepath = os.path.join(results_dir, f\"{file_basename}.xlsx\")\n",
    "\n",
    "df_results.to_excel(filepath, index=False)\n",
    "print(f\"✅ Descriptions saved to {filepath}\")"
   ]
  }
 ],
 "metadata": {
  "kernelspec": {
   "display_name": "base",
   "language": "python",
   "name": "python3"
  },
  "language_info": {
   "codemirror_mode": {
    "name": "ipython",
    "version": 3
   },
   "file_extension": ".py",
   "mimetype": "text/x-python",
   "name": "python",
   "nbconvert_exporter": "python",
   "pygments_lexer": "ipython3",
   "version": "3.12.7"
  }
 },
 "nbformat": 4,
 "nbformat_minor": 5
}
